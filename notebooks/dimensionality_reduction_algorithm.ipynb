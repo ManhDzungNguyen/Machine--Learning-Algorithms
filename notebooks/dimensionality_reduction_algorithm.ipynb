{
 "cells": [
  {
   "cell_type": "markdown",
   "metadata": {},
   "source": [
    "# Dimensionality Reduction Algorithms"
   ]
  },
  {
   "attachments": {},
   "cell_type": "markdown",
   "metadata": {},
   "source": [
    "**For more details:**\n",
    "- [PCA, SVD](https://www.youtube.com/watch?v=F-nfsSq42ow)\n",
    "- [6 Dimensionality Reduction Algorithms With Python](https://machinelearningmastery.com/dimensionality-reduction-algorithms-with-python/)\n",
    "- [sklearn.decomposition.PCA](https://scikit-learn.org/stable/modules/generated/sklearn.decomposition.PCA.html)\n",
    "- [Principal Component Analysis (1/2)](https://machinelearningcoban.com/2017/06/15/pca/)\n",
    "- [Principal Component Analysis (2/2)](https://machinelearningcoban.com/2017/06/21/pca2/)"
   ]
  },
  {
   "cell_type": "code",
   "execution_count": 1,
   "metadata": {},
   "outputs": [
    {
     "ename": "AttributeError",
     "evalue": "module 'scipy.misc' has no attribute 'imread'",
     "output_type": "error",
     "traceback": [
      "\u001b[1;31m---------------------------------------------------------------------------\u001b[0m",
      "\u001b[1;31mAttributeError\u001b[0m                            Traceback (most recent call last)",
      "Cell \u001b[1;32mIn[1], line 27\u001b[0m\n\u001b[0;32m     25\u001b[0m     \u001b[39mfor\u001b[39;00m state \u001b[39min\u001b[39;00m states:\n\u001b[0;32m     26\u001b[0m         fn \u001b[39m=\u001b[39m path \u001b[39m+\u001b[39m prefix \u001b[39m+\u001b[39m \u001b[39mstr\u001b[39m(person_id)\u001b[39m.\u001b[39mzfill(\u001b[39m2\u001b[39m) \u001b[39m+\u001b[39m \u001b[39m'\u001b[39m\u001b[39m.\u001b[39m\u001b[39m'\u001b[39m \u001b[39m+\u001b[39m state \u001b[39m+\u001b[39m surfix\n\u001b[1;32m---> 27\u001b[0m         X[:, cnt] \u001b[39m=\u001b[39m misc\u001b[39m.\u001b[39;49mimread(fn)\u001b[39m.\u001b[39mreshape(D)\n\u001b[0;32m     28\u001b[0m         cnt \u001b[39m+\u001b[39m\u001b[39m=\u001b[39m \u001b[39m1\u001b[39m\n\u001b[0;32m     30\u001b[0m \u001b[39m# Doing PCA, note that each row is a datapoint\u001b[39;00m\n",
      "\u001b[1;31mAttributeError\u001b[0m: module 'scipy.misc' has no attribute 'imread'"
     ]
    }
   ],
   "source": [
    "import numpy as np\n",
    "#from scipy import misc  \n",
    "import cv2            # for loading image\n",
    "np.random.seed(1)\n",
    "\n",
    "# filename structure\n",
    "path = '..\\datasets\\Yale Face Database' # path to the database\n",
    "ids = range(1, 16) # 15 persons\n",
    "states = ['centerlight', 'glasses', 'happy', 'leftlight',\n",
    "          'noglasses', 'normal', 'rightlight','sad',\n",
    "          'sleepy', 'surprised', 'wink' ]\n",
    "prefix = 'subject'\n",
    "surfix = '.pgm'\n",
    "\n",
    "# data dimension\n",
    "h = 116 # hight\n",
    "w = 98 # width\n",
    "D = h * w\n",
    "N = len(states)*15\n",
    "K = 100\n",
    "\n",
    "# collect all data\n",
    "X = np.zeros((D, N))\n",
    "cnt = 0\n",
    "for person_id in range(1, 16):\n",
    "    for state in states:\n",
    "        fn = path + prefix + str(person_id).zfill(2) + '.' + state + surfix\n",
    "        X[:, cnt] = cv2.imread(fn).reshape(D)\n",
    "        cnt += 1\n",
    "\n",
    "# Doing PCA, note that each row is a datapoint\n",
    "from sklearn.decomposition import PCA\n",
    "pca = PCA(n_components=K) # K = 100\n",
    "pca.fit(X.T)\n",
    "\n",
    "# projection matrix\n",
    "U = pca.components_.T\n"
   ]
  }
 ],
 "metadata": {
  "kernelspec": {
   "display_name": "ds_ai",
   "language": "python",
   "name": "python3"
  },
  "language_info": {
   "codemirror_mode": {
    "name": "ipython",
    "version": 3
   },
   "file_extension": ".py",
   "mimetype": "text/x-python",
   "name": "python",
   "nbconvert_exporter": "python",
   "pygments_lexer": "ipython3",
   "version": "3.8.16"
  },
  "orig_nbformat": 4
 },
 "nbformat": 4,
 "nbformat_minor": 2
}

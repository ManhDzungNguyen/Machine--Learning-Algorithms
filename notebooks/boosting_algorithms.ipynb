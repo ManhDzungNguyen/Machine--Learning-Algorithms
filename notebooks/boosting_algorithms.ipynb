{
 "cells": [
  {
   "attachments": {},
   "cell_type": "markdown",
   "metadata": {},
   "source": [
    "# Boosting Algorithm"
   ]
  },
  {
   "attachments": {},
   "cell_type": "markdown",
   "metadata": {},
   "source": [
    "<h3 style=\"text-align:center\">Types of Machine Learning models</h3>\n",
    "<center><img src=\"../images/types_of_ml_models.png\"/></center>\n"
   ]
  },
  {
   "attachments": {},
   "cell_type": "markdown",
   "metadata": {},
   "source": [
    "<h3 style=\"text-align:center\">Boosting Ensemble</h3>\n",
    "<center><img src=\"../images/boosting_ensemble_learning.png\" height=500/></center>"
   ]
  },
  {
   "attachments": {},
   "cell_type": "markdown",
   "metadata": {},
   "source": [
    "**For more details:**\n",
    "- [A Gentle Introduction to Ensemble Learning Algorithms](https://machinelearningmastery.com/tour-of-ensemble-learning-algorithms/)\n",
    "- [Ensemble learning và các biến thể](https://viblo.asia/p/ensemble-learning-va-cac-bien-the-p1-WAyK80AkKxX)\n",
    "- [A Step by Step Adaboost Example](https://sefiks.com/2018/11/02/a-step-by-step-adaboost-example/)\n",
    "- [sklearn.ensemble.AdaBoostClassifier](https://scikit-learn.org/stable/modules/generated/sklearn.ensemble.AdaBoostClassifier.html)\n",
    "- [AdaBoost - Bước đi đầu của Boosting](https://viblo.asia/p/adaboost-buoc-di-dau-cua-boosting-gAm5yrGwKdb)\n",
    "- [sklearn.ensemble.GradientBoostingClassifier](https://scikit-learn.org/stable/modules/generated/sklearn.ensemble.GradientBoostingClassifier.html#sklearn.ensemble.GradientBoostingClassifier)\n",
    "- [Gradient Boosting - Tất tần tật về thuật toán mạnh mẽ nhất trong Machine Learning ](https://viblo.asia/p/gradient-boosting-tat-tan-tat-ve-thuat-toan-manh-me-nhat-trong-machine-learning-YWOZrN7vZQ0)"
   ]
  },
  {
   "cell_type": "code",
   "execution_count": 1,
   "metadata": {},
   "outputs": [],
   "source": [
    "from sklearn.datasets import make_gaussian_quantiles\n",
    "from sklearn.tree import DecisionTreeClassifier\n",
    "from sklearn.ensemble import AdaBoostClassifier\n",
    "from sklearn.metrics import accuracy_score, confusion_matrix, f1_score\n",
    "\n",
    "import numpy as np\n",
    "import matplotlib as mpl\n",
    "import matplotlib.pyplot as plt\n",
    "from typing import Optional"
   ]
  },
  {
   "attachments": {},
   "cell_type": "markdown",
   "metadata": {},
   "source": [
    "### Create data"
   ]
  },
  {
   "cell_type": "code",
   "execution_count": 2,
   "metadata": {},
   "outputs": [],
   "source": [
    "def make_dataset(n: int = 100, random_seed: int = None):\n",
    "    n_per_class = int(n/2)\n",
    "    if random_seed:\n",
    "        np.random.seed(random_seed)\n",
    "    X, y = make_gaussian_quantiles(n_samples=n, n_features=2, n_classes=2)\n",
    "    return X, y*2-1\n",
    "\n",
    "X, y = make_dataset(n=30, random_seed=10)"
   ]
  },
  {
   "attachments": {},
   "cell_type": "markdown",
   "metadata": {},
   "source": [
    "### Visualize data and prediction"
   ]
  },
  {
   "cell_type": "code",
   "execution_count": 3,
   "metadata": {},
   "outputs": [
    {
     "data": {
      "image/png": "[encoded data removed]",
      "text/plain": [
       "<Figure size 500x500 with 1 Axes>"
      ]
     },
     "metadata": {},
     "output_type": "display_data"
    }
   ],
   "source": [
    "def plot_adaboost(X: np.ndarray,\n",
    "                  y: np.ndarray,\n",
    "                  model= None,\n",
    "                  sample_weights: Optional[np.ndarray] = None,\n",
    "                  ax: Optional[mpl.axes.Axes] = None):\n",
    "    def check(y):\n",
    "        assert set(y) == {-1,1}\n",
    "        return y\n",
    "\n",
    "    y = check(y) # Kì vọng nhãn bằng ±1\n",
    "\n",
    "    if not ax:\n",
    "        fig, ax = plt.subplots(figsize=(5, 5), dpi=100)\n",
    "        fig.set_facecolor('white')\n",
    "\n",
    "    pad = 1\n",
    "    x_min, x_max = X[:, 0].min() - pad, X[:, 0].max() + pad\n",
    "    y_min, y_max = X[:, 1].min() - pad, X[:, 1].max() + pad\n",
    "\n",
    "    if sample_weights is not None:\n",
    "        sizes = np.array(sample_weights) * X.shape[0] * 100  \n",
    "    else:\n",
    "        sizes = np.ones(shape=X.shape[0]) * 100\n",
    "\n",
    "    X_pos = X[y == 1]\n",
    "    sizes_pos = sizes[y == 1]\n",
    "    ax.scatter(*X_pos.T, s=sizes_pos, marker='+', color='red')\n",
    "\n",
    "    X_neg = X[y == -1]\n",
    "    sizes_neg = sizes[y == -1]\n",
    "    ax.scatter(*X_neg.T, s=sizes_neg, marker='.', c='blue')\n",
    "\n",
    "    if model:\n",
    "        plot_step = 0.01\n",
    "        xx, yy = np.meshgrid(np.arange(x_min, x_max, plot_step),\n",
    "                             np.arange(y_min, y_max, plot_step))\n",
    "        Z = model.predict(np.c_[xx.ravel(), yy.ravel()])\n",
    "        Z = Z.reshape(xx.shape)\n",
    "\n",
    "        # If all predictions are positive class, adjust color map acordingly\n",
    "        if list(np.unique(Z)) == [1]:\n",
    "            fill_colors = ['r']\n",
    "        else:\n",
    "            fill_colors = ['b', 'r']\n",
    "\n",
    "        ax.contourf(xx, yy, Z, colors=fill_colors, alpha=0.2)\n",
    "\n",
    "\n",
    "plot_adaboost(X, y)"
   ]
  },
  {
   "attachments": {},
   "cell_type": "markdown",
   "metadata": {},
   "source": [
    "### Build boosting ensemble models and evaluate"
   ]
  },
  {
   "attachments": {},
   "cell_type": "markdown",
   "metadata": {},
   "source": [
    "#### LogisticRegression only"
   ]
  },
  {
   "cell_type": "code",
   "execution_count": 4,
   "metadata": {},
   "outputs": [
    {
     "name": "stdout",
     "output_type": "stream",
     "text": [
      "Train error: 13.3%\n"
     ]
    },
    {
     "data": {
      "image/png": "[encoded data removed]",
      "text/plain": [
       "<Figure size 500x500 with 1 Axes>"
      ]
     },
     "metadata": {},
     "output_type": "display_data"
    }
   ],
   "source": [
    "model_00 = DecisionTreeClassifier(criterion=\"entropy\",\n",
    "                                  splitter=\"best\",\n",
    "                                  max_depth=2,\n",
    "                                  random_state=42)\n",
    "\n",
    "model_00.fit(X, y)\n",
    "\n",
    "train_err = (model_00.predict(X) != y).mean()\n",
    "print(f'Train error: {train_err:.1%}')\n",
    "plot_adaboost(X, y, model=model_00)"
   ]
  },
  {
   "attachments": {},
   "cell_type": "markdown",
   "metadata": {},
   "source": [
    "#### **AdaBoostClassifier** + DecisionTreeClassifier"
   ]
  },
  {
   "cell_type": "code",
   "execution_count": 5,
   "metadata": {},
   "outputs": [
    {
     "name": "stdout",
     "output_type": "stream",
     "text": [
      "Train error: 0.0%\n"
     ]
    },
    {
     "data": {
      "image/png": "[encoded data removed]",
      "text/plain": [
       "<Figure size 500x500 with 1 Axes>"
      ]
     },
     "metadata": {},
     "output_type": "display_data"
    }
   ],
   "source": [
    "model_01 = AdaBoostClassifier(estimator=DecisionTreeClassifier(criterion=\"entropy\",\n",
    "                                                               splitter=\"best\",\n",
    "                                                               max_depth=2,\n",
    "                                                               random_state=42),\n",
    "                              n_estimators=15,\n",
    "                              algorithm='SAMME')\n",
    "model_01.fit(X, y)\n",
    "\n",
    "train_err = (model_01.predict(X) != y).mean()\n",
    "print(f'Train error: {train_err:.1%}')\n",
    "plot_adaboost(X, y, model=model_01)"
   ]
  },
  {
   "attachments": {},
   "cell_type": "markdown",
   "metadata": {},
   "source": [
    "#### **Gradient Boosting** + DecisionTreeClassifier"
   ]
  },
  {
   "cell_type": "code",
   "execution_count": 6,
   "metadata": {},
   "outputs": [
    {
     "name": "stdout",
     "output_type": "stream",
     "text": [
      "Train error: 0.0%\n"
     ]
    },
    {
     "data": {
      "image/png": "[encoded data removed]",
      "text/plain": [
       "<Figure size 500x500 with 1 Axes>"
      ]
     },
     "metadata": {},
     "output_type": "display_data"
    }
   ],
   "source": [
    "from sklearn.ensemble import GradientBoostingClassifier\n",
    "\n",
    "model_02 = GradientBoostingClassifier(init=DecisionTreeClassifier(criterion=\"entropy\",\n",
    "                                                                  splitter=\"best\",\n",
    "                                                                  max_depth=2,\n",
    "                                                                  random_state=42),\n",
    "                                      n_estimators=15,\n",
    "                                      learning_rate=1.0,\n",
    "                                      max_depth=2,\n",
    "                                      random_state=42)\n",
    "model_02.fit(X, y)\n",
    "\n",
    "train_err = (model_02.predict(X) != y).mean()\n",
    "print(f'Train error: {train_err:.1%}')\n",
    "plot_adaboost(X, y, model=model_02)"
   ]
  },
  {
   "cell_type": "code",
   "execution_count": null,
   "metadata": {},
   "outputs": [],
   "source": []
  }
 ],
 "metadata": {
  "kernelspec": {
   "display_name": "ds_ai",
   "language": "python",
   "name": "python3"
  },
  "language_info": {
   "codemirror_mode": {
    "name": "ipython",
    "version": 3
   },
   "file_extension": ".py",
   "mimetype": "text/x-python",
   "name": "python",
   "nbconvert_exporter": "python",
   "pygments_lexer": "ipython3",
   "version": "3.8.16"
  },
  "orig_nbformat": 4
 },
 "nbformat": 4,
 "nbformat_minor": 2
}
